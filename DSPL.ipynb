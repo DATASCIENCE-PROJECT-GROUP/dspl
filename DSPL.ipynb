{
  "nbformat": 4,
  "nbformat_minor": 0,
  "metadata": {
    "colab": {
      "provenance": [],
      "toc_visible": true,
      "authorship_tag": "ABX9TyN9g8CVr36VVlK3AWGWPhFB",
      "include_colab_link": true
    },
    "kernelspec": {
      "name": "python3",
      "display_name": "Python 3"
    },
    "language_info": {
      "name": "python"
    }
  },
  "cells": [
    {
      "cell_type": "markdown",
      "metadata": {
        "id": "view-in-github",
        "colab_type": "text"
      },
      "source": [
        "<a href=\"https://colab.research.google.com/github/DATASCIENCE-PROJECT-GROUP/dspl/blob/main/DSPL.ipynb\" target=\"_parent\"><img src=\"https://colab.research.google.com/assets/colab-badge.svg\" alt=\"Open In Colab\"/></a>"
      ]
    },
    {
      "cell_type": "markdown",
      "source": [
        "TRAIN.CSV - PREPROCESSING"
      ],
      "metadata": {
        "id": "NuRzljx4ZiQv"
      }
    },
    {
      "cell_type": "code",
      "execution_count": 1,
      "metadata": {
        "id": "hsONyja8c7Uk"
      },
      "outputs": [],
      "source": [
        "import pandas as pd\n",
        "import numpy as np\n",
        "from sklearn.impute import SimpleImputer\n",
        "from sklearn.preprocessing import StandardScaler, OneHotEncoder\n",
        "from sklearn.model_selection import train_test_split\n",
        "from scipy import sparse"
      ]
    },
    {
      "cell_type": "code",
      "source": [
        "# Define chunk size to reduce memory usage\n",
        "chunk_size = 10000  # Adjust based on available memory\n",
        "use_cols = [\"Customer_ID\", \"outlet_city\", \"luxury_sales\", \"fresh_sales\", \"dry_sales\", \"cluster_catgeory\"]"
      ],
      "metadata": {
        "id": "iZyTG4ehKreu"
      },
      "execution_count": 2,
      "outputs": []
    },
    {
      "cell_type": "code",
      "source": [
        "def process_chunk(chunk):\n",
        "    # Select necessary columns\n",
        "    chunk = chunk[use_cols]"
      ],
      "metadata": {
        "id": "XHC7K3H5OPzC"
      },
      "execution_count": 3,
      "outputs": []
    },
    {
      "cell_type": "code",
      "source": [
        "def process_chunk(chunk):\n",
        "    # Select necessary columns\n",
        "    chunk = chunk[use_cols]\n",
        "    # Reduce memory usage by downcasting numerical columns\n",
        "    for col in chunk.select_dtypes(include=['int64']).columns:\n",
        "        chunk[col] = pd.to_numeric(chunk[col], downcast='integer')\n",
        "    for col in chunk.select_dtypes(include=['float64']).columns:\n",
        "        chunk[col] = pd.to_numeric(chunk[col], downcast='float')\n",
        "\n",
        "    return chunk"
      ],
      "metadata": {
        "id": "5bDHYRRgOTw5"
      },
      "execution_count": 5,
      "outputs": []
    },
    {
      "cell_type": "code",
      "source": [
        "# Read dataset in chunks and process each chunk\n",
        "chunks = []\n",
        "for chunk in pd.read_csv(\"/content/traincsv.csv\", chunksize=chunk_size, usecols=use_cols):\n",
        "    chunks.append(process_chunk(chunk))"
      ],
      "metadata": {
        "id": "xSj-5U4NOXD2"
      },
      "execution_count": 6,
      "outputs": []
    },
    {
      "cell_type": "code",
      "source": [
        "df = pd.concat(chunks, ignore_index=True)"
      ],
      "metadata": {
        "id": "rlaRpiyaOkez"
      },
      "execution_count": 7,
      "outputs": []
    },
    {
      "cell_type": "code",
      "source": [
        "# Handling missing values\n",
        "imputer = SimpleImputer(strategy=\"median\")\n",
        "numeric_cols = df.select_dtypes(include=[\"number\"]).columns\n",
        "df[numeric_cols] = imputer.fit_transform(df[numeric_cols])"
      ],
      "metadata": {
        "id": "Ay8L2aI4OnjD"
      },
      "execution_count": 8,
      "outputs": []
    },
    {
      "cell_type": "code",
      "source": [
        "# Encoding categorical variables with sparse matrices\n",
        "categorical_features = df.select_dtypes(include=[\"object\"]).columns"
      ],
      "metadata": {
        "id": "wA8jIH3WOqAY"
      },
      "execution_count": 9,
      "outputs": []
    },
    {
      "cell_type": "code",
      "source": [
        "# Ensure categorical values are strings\n",
        "df[categorical_features] = df[categorical_features].astype(str)"
      ],
      "metadata": {
        "id": "qQdVO7qFOr7b"
      },
      "execution_count": 10,
      "outputs": []
    },
    {
      "cell_type": "code",
      "source": [
        "encoder = OneHotEncoder(handle_unknown='ignore', sparse_output=True, dtype=np.float32)\n",
        "categorical_transformed = encoder.fit_transform(df[categorical_features])"
      ],
      "metadata": {
        "id": "rJNzuyAzOuEJ"
      },
      "execution_count": 11,
      "outputs": []
    },
    {
      "cell_type": "code",
      "source": [
        "df = df.drop(columns=categorical_features)"
      ],
      "metadata": {
        "id": "yJyLBKnLOxkE"
      },
      "execution_count": 12,
      "outputs": []
    },
    {
      "cell_type": "code",
      "source": [
        "# Convert sparse matrix to a sparse DataFrame\n",
        "df_encoded = pd.DataFrame.sparse.from_spmatrix(categorical_transformed, columns=encoder.get_feature_names_out())\n",
        "df = pd.concat([df, df_encoded], axis=1)"
      ],
      "metadata": {
        "id": "QjdGF249O1s_"
      },
      "execution_count": 13,
      "outputs": []
    },
    {
      "cell_type": "code",
      "source": [
        "# Splitting data before scaling to save memory\n",
        "X = df.drop(columns=df.columns[df.columns.str.startswith('x0_')])  # Dropping the encoded categorical columns\n",
        "y = df[\"Customer_ID\"] # Using Customer_ID as target\n",
        "X_train, X_test, y_train, y_test = train_test_split(X, y, test_size=0.2, random_state=42)"
      ],
      "metadata": {
        "id": "pdWxMXSiO3vm"
      },
      "execution_count": null,
      "outputs": []
    },
    {
      "cell_type": "code",
      "source": [],
      "metadata": {
        "id": "fNgf3MelPKzX"
      },
      "execution_count": null,
      "outputs": []
    }
  ]
}